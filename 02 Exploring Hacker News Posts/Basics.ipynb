{
 "cells": [
  {
   "cell_type": "markdown",
   "metadata": {
    "collapsed": true
   },
   "source": [
    "# 2. Dataquest Guided Project: Exploring Hacker News Posts \n",
    "In this project, we analyse the submissions to the popular technnology site [Hacker News](https://news.ycombinator.com/). The data set can be found [here](https://www.kaggle.com/hacker-news/hacker-news-posts), but nonte that it has been reduced to approximately 20,000 rows. \n",
    "\n",
    "The goal of this analysis to identify during which hour a post needs to be created to have the highest chance of receiving comments. To this end, we will determine the following: \n",
    "1. Do Ask HN or Show HN receive more comments on average?\n",
    "2. Do posts created at a certain time receive more comments on average?"
   ]
  },
  {
   "cell_type": "code",
   "execution_count": 2,
   "metadata": {
    "collapsed": false
   },
   "outputs": [
    {
     "name": "stdout",
     "output_type": "stream",
     "text": [
      "[['id', 'title', 'url', 'num_points', 'num_comments', 'author', 'created_at'], ['12224879', 'Interactive Dynamic Video', 'http://www.interactivedynamicvideo.com/', '386', '52', 'ne0phyte', '8/4/2016 11:52'], ['10975351', 'How to Use Open Source and Shut the Fuck Up at the Same Time', 'http://hueniverse.com/2016/01/26/how-to-use-open-source-and-shut-the-fuck-up-at-the-same-time/', '39', '10', 'josep2', '1/26/2016 19:30'], ['11964716', \"Florida DJs May Face Felony for April Fools' Water Joke\", 'http://www.thewire.com/entertainment/2013/04/florida-djs-april-fools-water-joke/63798/', '2', '1', 'vezycash', '6/23/2016 22:20'], ['11919867', 'Technology ventures: From Idea to Enterprise', 'https://www.amazon.com/Technology-Ventures-Enterprise-Thomas-Byers/dp/0073523429', '3', '1', 'hswarna', '6/17/2016 0:01']]\n"
     ]
    }
   ],
   "source": [
    "from csv import reader\n",
    "opened_file = open('hacker_news.csv')\n",
    "read_file = reader(opened_file)\n",
    "hn = list(read_file)\n",
    "print(hn[:5])"
   ]
  },
  {
   "cell_type": "markdown",
   "metadata": {},
   "source": [
    "First, we remove the header row and assign it to **headers**."
   ]
  },
  {
   "cell_type": "code",
   "execution_count": 3,
   "metadata": {
    "collapsed": false
   },
   "outputs": [
    {
     "name": "stdout",
     "output_type": "stream",
     "text": [
      "['id', 'title', 'url', 'num_points', 'num_comments', 'author', 'created_at']\n",
      "[['12224879', 'Interactive Dynamic Video', 'http://www.interactivedynamicvideo.com/', '386', '52', 'ne0phyte', '8/4/2016 11:52'], ['10975351', 'How to Use Open Source and Shut the Fuck Up at the Same Time', 'http://hueniverse.com/2016/01/26/how-to-use-open-source-and-shut-the-fuck-up-at-the-same-time/', '39', '10', 'josep2', '1/26/2016 19:30'], ['11964716', \"Florida DJs May Face Felony for April Fools' Water Joke\", 'http://www.thewire.com/entertainment/2013/04/florida-djs-april-fools-water-joke/63798/', '2', '1', 'vezycash', '6/23/2016 22:20'], ['11919867', 'Technology ventures: From Idea to Enterprise', 'https://www.amazon.com/Technology-Ventures-Enterprise-Thomas-Byers/dp/0073523429', '3', '1', 'hswarna', '6/17/2016 0:01'], ['10301696', 'Note by Note: The Making of Steinway L1037 (2007)', 'http://www.nytimes.com/2007/11/07/movies/07stein.html?_r=0', '8', '2', 'walterbell', '9/30/2015 4:12']]\n"
     ]
    }
   ],
   "source": [
    "headers = hn[0]\n",
    "hn = hn[1:]\n",
    "print(headers)\n",
    "print(hn[0:5])"
   ]
  },
  {
   "cell_type": "markdown",
   "metadata": {},
   "source": [
    "Since we're only concerned with post titles beginning with **Ask HN** or **Show HN**, we'll create new lists of lists containing just the data for those titles."
   ]
  },
  {
   "cell_type": "code",
   "execution_count": 4,
   "metadata": {
    "collapsed": false
   },
   "outputs": [
    {
     "name": "stdout",
     "output_type": "stream",
     "text": [
      "number of asks: 1744\n",
      "number of showsL 1162\n",
      "number of others: 17194\n"
     ]
    }
   ],
   "source": [
    "ask_posts = []\n",
    "show_posts = []\n",
    "other_posts = []\n",
    "for row in hn: \n",
    "    title = row[1]\n",
    "    if title.lower().startswith(\"ask hn\"): \n",
    "        ask_posts.append(row)\n",
    "    elif title.lower().startswith(\"show hn\"): \n",
    "        show_posts.append(row)\n",
    "    else: \n",
    "        other_posts.append(row)\n",
    "    \n",
    "print('number of asks:', len(ask_posts))\n",
    "print('number of showsL', len(show_posts))\n",
    "print('number of others:',len(other_posts))"
   ]
  },
  {
   "cell_type": "code",
   "execution_count": 5,
   "metadata": {
    "collapsed": false
   },
   "outputs": [
    {
     "name": "stdout",
     "output_type": "stream",
     "text": [
      "average ask comments: 14.038417431192661\n",
      "average show comments: 10.31669535283993\n"
     ]
    }
   ],
   "source": [
    "total_ask_comments = 0 \n",
    "for asks in ask_posts: \n",
    "    num_comments = int(asks[4])\n",
    "    total_ask_comments += num_comments\n",
    "\n",
    "avg_ask_comments = total_ask_comments/len(ask_posts)\n",
    "print(\"average ask comments:\", avg_ask_comments)\n",
    "\n",
    "total_show_comments = 0\n",
    "for shows in show_posts: \n",
    "    num_comments = int(shows[4])\n",
    "    total_show_comments += num_comments\n",
    "\n",
    "avg_show_comments = total_show_comments/len(show_posts)\n",
    "print(\"average show comments:\", avg_show_comments)"
   ]
  },
  {
   "cell_type": "markdown",
   "metadata": {},
   "source": [
    "After examining the average comments of **Ask HN** or **Show HN**, we can see that **Ask HN** posts receive on average more comments than **Show HN** posts. "
   ]
  },
  {
   "cell_type": "markdown",
   "metadata": {},
   "source": [
    "Next, we use the following steps to to determine if ask posts created at a certain time are more likely to attract comments: \n",
    "\n",
    "1. Calculate the amount of ask posts created in each hour of the day, along with the number of comments received.\n",
    "2. Calculate the average number of comments ask posts receive by hour created.\n",
    "\n",
    "\n",
    "Firstly, we will create two dictionaries: \n",
    "**counts_by_hour**: contains the number of ask posts created during each hour of the day.\n",
    "**comments_by_hour**: contains the corresponding number of comments ask posts created at each hour received."
   ]
  },
  {
   "cell_type": "code",
   "execution_count": 23,
   "metadata": {
    "collapsed": false
   },
   "outputs": [
    {
     "name": "stdout",
     "output_type": "stream",
     "text": [
      "{'09': 45, '13': 85, '15': 116, '06': 44, '00': 55, '19': 110, '16': 108, '20': 80, '23': 68, '14': 107, '03': 54, '05': 46, '10': 59, '21': 109, '17': 100, '02': 58, '07': 34, '18': 109, '11': 58, '04': 47, '12': 73, '01': 60, '22': 71, '08': 48}\n",
      "{'09': 251, '13': 1253, '15': 4477, '06': 397, '00': 447, '19': 1188, '16': 1814, '20': 1722, '23': 543, '14': 1416, '03': 421, '05': 464, '10': 793, '21': 1745, '17': 1146, '02': 1381, '07': 267, '18': 1439, '11': 641, '04': 337, '12': 687, '01': 683, '22': 479, '08': 492}\n"
     ]
    }
   ],
   "source": [
    "import datetime as dt \n",
    "result_list = []\n",
    "for row in ask_posts: \n",
    "    result_list.append([row[6], int(row[4])])\n",
    "counts_by_hour = {}\n",
    "comments_by_hour = {}\n",
    "for row in result_list: \n",
    "    comments = row[1]\n",
    "    dt_object = dt.datetime.strptime(row[0],'%m/%d/%Y %H:%M')\n",
    "    hour = dt_object.strftime(\"%H\")\n",
    "    if hour not in counts_by_hour: \n",
    "        counts_by_hour[hour] = 1\n",
    "        comments_by_hour[hour] = comments\n",
    "    else: \n",
    "        counts_by_hour[hour] += 1\n",
    "        comments_by_hour[hour] += comments\n",
    "print(counts_by_hour )\n",
    "print(comments_by_hour)"
   ]
  },
  {
   "cell_type": "code",
   "execution_count": 24,
   "metadata": {
    "collapsed": false
   },
   "outputs": [
    {
     "name": "stdout",
     "output_type": "stream",
     "text": [
      "[['09', 5.5777777777777775], ['13', 14.741176470588234], ['15', 38.5948275862069], ['06', 9.022727272727273], ['00', 8.127272727272727], ['19', 10.8], ['16', 16.796296296296298], ['20', 21.525], ['23', 7.985294117647059], ['14', 13.233644859813085], ['03', 7.796296296296297], ['05', 10.08695652173913], ['10', 13.440677966101696], ['21', 16.009174311926607], ['17', 11.46], ['02', 23.810344827586206], ['07', 7.852941176470588], ['18', 13.20183486238532], ['11', 11.051724137931034], ['04', 7.170212765957447], ['12', 9.41095890410959], ['01', 11.383333333333333], ['22', 6.746478873239437], ['08', 10.25]]\n"
     ]
    }
   ],
   "source": [
    "avg_by_hour = [] \n",
    "for hour in counts_by_hour: \n",
    "    avg_by_hour.append([hour, comments_by_hour[hour]/counts_by_hour[hour]])\n",
    "print(avg_by_hour)\n",
    "    "
   ]
  },
  {
   "cell_type": "markdown",
   "metadata": {},
   "source": [
    "Next, we will sort the **avg_by_hour** list and print the five highest values. \n"
   ]
  },
  {
   "cell_type": "code",
   "execution_count": 26,
   "metadata": {
    "collapsed": false
   },
   "outputs": [
    {
     "name": "stdout",
     "output_type": "stream",
     "text": [
      "[[5.5777777777777775, '09'], [14.741176470588234, '13'], [38.5948275862069, '15'], [9.022727272727273, '06'], [8.127272727272727, '00'], [10.8, '19'], [16.796296296296298, '16'], [21.525, '20'], [7.985294117647059, '23'], [13.233644859813085, '14'], [7.796296296296297, '03'], [10.08695652173913, '05'], [13.440677966101696, '10'], [16.009174311926607, '21'], [11.46, '17'], [23.810344827586206, '02'], [7.852941176470588, '07'], [13.20183486238532, '18'], [11.051724137931034, '11'], [7.170212765957447, '04'], [9.41095890410959, '12'], [11.383333333333333, '01'], [6.746478873239437, '22'], [10.25, '08']]\n"
     ]
    }
   ],
   "source": [
    "swap_avg_by_hour = []\n",
    "for row in avg_by_hour: \n",
    "    swap_avg_by_hour.append([row[1],row[0]])\n",
    "print(swap_avg_by_hour)"
   ]
  },
  {
   "cell_type": "code",
   "execution_count": 28,
   "metadata": {
    "collapsed": false
   },
   "outputs": [],
   "source": [
    "sorted_swap = sorted(swap_avg_by_hour, reverse=True)"
   ]
  },
  {
   "cell_type": "code",
   "execution_count": 31,
   "metadata": {
    "collapsed": false
   },
   "outputs": [
    {
     "name": "stdout",
     "output_type": "stream",
     "text": [
      "Top 5 Hours for Ask Posts Comments [[38.5948275862069, '15'], [23.810344827586206, '02'], [21.525, '20'], [16.796296296296298, '16']]\n"
     ]
    }
   ],
   "source": [
    "print(\"Top 5 Hours for Ask Posts Comments\", sorted_swap[:4])\n"
   ]
  },
  {
   "cell_type": "code",
   "execution_count": 35,
   "metadata": {
    "collapsed": false
   },
   "outputs": [
    {
     "name": "stdout",
     "output_type": "stream",
     "text": [
      "15:00: 38.59 average comments per post\n",
      "02:00: 23.81 average comments per post\n",
      "20:00: 21.52 average comments per post\n",
      "16:00: 16.80 average comments per post\n"
     ]
    }
   ],
   "source": [
    "for row in sorted_swap[:4]: \n",
    "    dt_object = dt.datetime.strptime(row[1],\"%H\")\n",
    "    time = dt_object.strftime(\"%H:%M\")\n",
    "    template = \"{hour}: {average:.2f} average comments per post\"\n",
    "    output = template.format(hour = time, average=row[0])\n",
    "    print(output)"
   ]
  },
  {
   "cell_type": "markdown",
   "metadata": {},
   "source": [
    "We can conclude that posts created from 15:00 to 16:00 Eastern Time in the US receive the most comments on average. Therefore, to have a higher chance of receiving comments and since we are based in London, we should create posts from 8pm to 9pm."
   ]
  }
 ],
 "metadata": {
  "kernelspec": {
   "display_name": "Python 3",
   "language": "python",
   "name": "python3"
  },
  "language_info": {
   "codemirror_mode": {
    "name": "ipython",
    "version": 3
   },
   "file_extension": ".py",
   "mimetype": "text/x-python",
   "name": "python",
   "nbconvert_exporter": "python",
   "pygments_lexer": "ipython3",
   "version": "3.4.3"
  }
 },
 "nbformat": 4,
 "nbformat_minor": 2
}
