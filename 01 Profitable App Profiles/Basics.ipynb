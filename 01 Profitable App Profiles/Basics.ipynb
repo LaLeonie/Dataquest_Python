{
 "cells": [
  {
   "cell_type": "markdown",
   "metadata": {},
   "source": [
    "# 1. Dataquest Guided Project: Profitable App Profiles\n",
    "\n",
    "This project analyses data to help understand what type of apps are are likely to attract more users on Google Play and App Store. \n",
    "The goal is to provide insights to fictional company specialising in free mobile apps. \n",
    "\n",
    "For this purpose we use two open source data sets: \n",
    "1. [Data set](https://www.kaggle.com/lava18/google-play-store-apps) about Android Apps\n",
    "2. [Data set](https://www.kaggle.com/ramamet4/app-store-apple-data-set-10k-apps) about iOS apps\n"
   ]
  },
  {
   "cell_type": "code",
   "execution_count": 1,
   "metadata": {
    "collapsed": false
   },
   "outputs": [],
   "source": [
    "applestore = open('AppleStore.csv')\n",
    "googleplaystore = open(\"googleplaystore.csv\")\n",
    "from csv import reader\n",
    "apple_data = list(reader(applestore))\n",
    "google_data = list(reader(googleplaystore))\n"
   ]
  },
  {
   "cell_type": "code",
   "execution_count": 2,
   "metadata": {
    "collapsed": true
   },
   "outputs": [],
   "source": [
    "def explore_data(dataset, start, end, rows_and_columns=False):\n",
    "    dataset_slice = dataset[start:end]    \n",
    "    for row in dataset_slice:\n",
    "        print(row)\n",
    "        print('\\n') # adds a new (empty) line after each row\n",
    "\n",
    "    if rows_and_columns:\n",
    "        print('Number of rows:', len(dataset))\n",
    "        print('Number of columns:', len(dataset[0]))"
   ]
  },
  {
   "cell_type": "code",
   "execution_count": 3,
   "metadata": {
    "collapsed": false
   },
   "outputs": [
    {
     "name": "stdout",
     "output_type": "stream",
     "text": [
      "['284882215', 'Facebook', '389879808', 'USD', '0.0', '2974676', '212', '3.5', '3.5', '95.0', '4+', 'Social Networking', '37', '1', '29', '1']\n",
      "\n",
      "\n",
      "['389801252', 'Instagram', '113954816', 'USD', '0.0', '2161558', '1289', '4.5', '4.0', '10.23', '12+', 'Photo & Video', '37', '0', '29', '1']\n",
      "\n",
      "\n",
      "['529479190', 'Clash of Clans', '116476928', 'USD', '0.0', '2130805', '579', '4.5', '4.5', '9.24.12', '9+', 'Games', '38', '5', '18', '1']\n",
      "\n",
      "\n",
      "Number of rows: 7198\n",
      "Number of columns: 16\n",
      "['Photo Editor & Candy Camera & Grid & ScrapBook', 'ART_AND_DESIGN', '4.1', '159', '19M', '10,000+', 'Free', '0', 'Everyone', 'Art & Design', 'January 7, 2018', '1.0.0', '4.0.3 and up']\n",
      "\n",
      "\n",
      "['Coloring book moana', 'ART_AND_DESIGN', '3.9', '967', '14M', '500,000+', 'Free', '0', 'Everyone', 'Art & Design;Pretend Play', 'January 15, 2018', '2.0.0', '4.0.3 and up']\n",
      "\n",
      "\n",
      "['U Launcher Lite – FREE Live Cool Themes, Hide Apps', 'ART_AND_DESIGN', '4.7', '87510', '8.7M', '5,000,000+', 'Free', '0', 'Everyone', 'Art & Design', 'August 1, 2018', '1.2.4', '4.0.3 and up']\n",
      "\n",
      "\n",
      "Number of rows: 10842\n",
      "Number of columns: 13\n"
     ]
    }
   ],
   "source": [
    "explore_data(apple_data, 1,4, True)\n",
    "explore_data(google_data,1,4, True)\n"
   ]
  },
  {
   "cell_type": "code",
   "execution_count": 4,
   "metadata": {
    "collapsed": false
   },
   "outputs": [
    {
     "name": "stdout",
     "output_type": "stream",
     "text": [
      "['id', 'track_name', 'size_bytes', 'currency', 'price', 'rating_count_tot', 'rating_count_ver', 'user_rating', 'user_rating_ver', 'ver', 'cont_rating', 'prime_genre', 'sup_devices.num', 'ipadSc_urls.num', 'lang.num', 'vpp_lic']\n",
      "\n",
      "\n",
      "Number of rows: 7198\n",
      "Number of columns: 16\n",
      "['App', 'Category', 'Rating', 'Reviews', 'Size', 'Installs', 'Type', 'Price', 'Content Rating', 'Genres', 'Last Updated', 'Current Ver', 'Android Ver']\n",
      "\n",
      "\n",
      "Number of rows: 10842\n",
      "Number of columns: 13\n"
     ]
    }
   ],
   "source": [
    "explore_data(apple_data, 0,1, True)\n",
    "explore_data(google_data, 0,1, True)"
   ]
  },
  {
   "cell_type": "code",
   "execution_count": 5,
   "metadata": {
    "collapsed": false
   },
   "outputs": [
    {
     "name": "stdout",
     "output_type": "stream",
     "text": [
      "['Life Made WI-Fi Touchscreen Photo Frame', '1.9', '19', '3.0M', '1,000+', 'Free', '0', 'Everyone', '', 'February 11, 2018', '1.0.19', '4.0 and up']\n",
      "\n",
      "\n",
      "['Coloring book moana', 'ART_AND_DESIGN', '3.9', '967', '14M', '500,000+', 'Free', '0', 'Everyone', 'Art & Design;Pretend Play', 'January 15, 2018', '2.0.0', '4.0.3 and up']\n"
     ]
    }
   ],
   "source": [
    "print(google_data[10473])\n",
    "print('\\n')\n",
    "print(google_data[2])"
   ]
  },
  {
   "cell_type": "markdown",
   "metadata": {},
   "source": [
    "# Cleaning the data Set \n",
    "## Removing faulty rows\n",
    "\n",
    "As mentioned in the [discussions forum](https://www.kaggle.com/lava18/google-play-store-apps/discussion/164101), line 10473 has faulty values and therefore needs to be deleted. "
   ]
  },
  {
   "cell_type": "code",
   "execution_count": 6,
   "metadata": {
    "collapsed": false
   },
   "outputs": [],
   "source": [
    "\n",
    "del google_data[10473]"
   ]
  },
  {
   "cell_type": "code",
   "execution_count": 7,
   "metadata": {
    "collapsed": false
   },
   "outputs": [
    {
     "name": "stdout",
     "output_type": "stream",
     "text": [
      "['osmino Wi-Fi: free WiFi', 'TOOLS', '4.2', '134203', '4.1M', '10,000,000+', 'Free', '0', 'Everyone', 'Tools', 'August 7, 2018', '6.06.14', '4.4 and up']\n"
     ]
    }
   ],
   "source": [
    "print(google_data[10473])"
   ]
  },
  {
   "cell_type": "markdown",
   "metadata": {},
   "source": [
    "## Removing duplicates\n",
    "The Google Play data includes several duplicates. \n",
    "The code below will show sample duplicates before deleting those duplicates with lower ratings. This is based on the assumption that the entry with highest rating is the most recent i.e. most up-to-date one. \n"
   ]
  },
  {
   "cell_type": "markdown",
   "metadata": {},
   "source": [
    "First we identify the number of duplicates. For this we create two empty list and loop through the data set. Whenever we come across a name that is already in the **unique_apps** list, we append this name to **duplicate_apps**. Otherwise, it's appended to former list. "
   ]
  },
  {
   "cell_type": "code",
   "execution_count": 8,
   "metadata": {
    "collapsed": false
   },
   "outputs": [
    {
     "name": "stdout",
     "output_type": "stream",
     "text": [
      "[['Quick PDF Scanner + OCR FREE', 'BUSINESS', '4.2', '80805', 'Varies with device', '5,000,000+', 'Free', '0', 'Everyone', 'Business', 'February 26, 2018', 'Varies with device', '4.0.3 and up'], ['Box', 'BUSINESS', '4.2', '159872', 'Varies with device', '10,000,000+', 'Free', '0', 'Everyone', 'Business', 'July 31, 2018', 'Varies with device', 'Varies with device'], ['Google My Business', 'BUSINESS', '4.4', '70991', 'Varies with device', '5,000,000+', 'Free', '0', 'Everyone', 'Business', 'July 24, 2018', '2.19.0.204537701', '4.4 and up']]\n",
      "1181\n"
     ]
    }
   ],
   "source": [
    "duplicate_apps = []\n",
    "unique_apps = []\n",
    "for app in google_data[1:]: \n",
    "    name = app[0]\n",
    "    if name in unique_apps:\n",
    "        duplicate_apps.append(app)\n",
    "    else: \n",
    "        unique_apps.append(name)\n",
    "\n",
    "number_of_dups = len(duplicate_apps)\n",
    "print(duplicate_apps[0:3])\n",
    "print(number_of_dups)"
   ]
  },
  {
   "cell_type": "markdown",
   "metadata": {},
   "source": [
    "There are **1181** duplicates, i.e. **9659** unique entries."
   ]
  },
  {
   "cell_type": "markdown",
   "metadata": {},
   "source": [
    "Next we find the max reviews for each app. This is stored in a dictionary where the **app name** is the key and **nunmber of reviews** is the total. To verify the result, we check that the resulting dictionary has a length of **9659**. "
   ]
  },
  {
   "cell_type": "code",
   "execution_count": 9,
   "metadata": {
    "collapsed": false
   },
   "outputs": [
    {
     "name": "stdout",
     "output_type": "stream",
     "text": [
      "9659\n"
     ]
    }
   ],
   "source": [
    "reviews_max = {}\n",
    "for app in google_data[1:]:\n",
    "    name = app[0]\n",
    "    n_reviews = float(app[3])\n",
    "    if name in reviews_max and reviews_max[name]<n_reviews: \n",
    "        reviews_max[name]=n_reviews\n",
    "    elif name is not reviews_max: \n",
    "        reviews_max[name] = n_reviews\n",
    "\n",
    "print(len(reviews_max))\n",
    "\n"
   ]
  },
  {
   "cell_type": "markdown",
   "metadata": {},
   "source": [
    "Next we create **android_clean**, a list that contains all unique app entries with highest number of reviews. For this we loop through the data set and append all apps that meet two criteria: \n",
    "1. Their number of reviews is equal to the number of reviews stored in **reviews_max** for the respective app\n",
    "2. The name of the app is not in the list **already_added**. Whenever, we append an app to **android_clean**, the app name is appended to **already_added**. We need to add this supplementary condition to account for those cases where the highest number of reviews of a duplicate app is the same for more than one entry"
   ]
  },
  {
   "cell_type": "code",
   "execution_count": 10,
   "metadata": {
    "collapsed": false
   },
   "outputs": [
    {
     "name": "stdout",
     "output_type": "stream",
     "text": [
      "9659\n"
     ]
    }
   ],
   "source": [
    "android_clean = []\n",
    "already_added = []\n",
    "for app in google_data[1:]:\n",
    "    name = app[0]\n",
    "    n_reviews = float(app[3])\n",
    "\n",
    "    if (reviews_max[name] == n_reviews) and (name not in already_added): \n",
    "        android_clean.append(app)\n",
    "        already_added.append(name)\n",
    "print(len(android_clean))\n"
   ]
  },
  {
   "cell_type": "markdown",
   "metadata": {},
   "source": [
    "## Removing non-English entries\n",
    "We need to delete all apps that have not English names as we'd like to analyze only the apps that are directed toward an English-speaking audience. \n",
    "\n",
    "The characters we commonly use in an English text are all in the range 0 to 127, according to the ASCII system. The function below  detects weather a string is made from common English character by checking if the ASCII values of all elements are below 127. \n",
    "\n",
    "To allow for English apps with special characters,  all English apps with up to three emoji or other special characters will still be labeled as English."
   ]
  },
  {
   "cell_type": "code",
   "execution_count": 11,
   "metadata": {
    "collapsed": false
   },
   "outputs": [
    {
     "name": "stdout",
     "output_type": "stream",
     "text": [
      "Instagram True\n",
      "爱奇艺PPS -《欢乐颂2》电视剧热播 False\n",
      "Instachat 😜 True\n",
      "Docs To Go™ Free Office Suite True\n"
     ]
    }
   ],
   "source": [
    "def check_string(string): \n",
    "    non_ascii = 0\n",
    "    \n",
    "    for character in string:\n",
    "        if ord(character) > 127:\n",
    "            non_ascii += 1\n",
    "    \n",
    "    if non_ascii > 3:\n",
    "        return False\n",
    "    else:\n",
    "        return True\n",
    "\n",
    "#Testing the check_string function\n",
    "print(\"Instagram\", check_string('Instagram'))\n",
    "print('爱奇艺PPS -《欢乐颂2》电视剧热播', check_string('爱奇艺PPS -《欢乐颂2》电视剧热播'))\n",
    "print('Instachat 😜', check_string('Instachat 😜'))\n",
    "print('Docs To Go™ Free Office Suite', check_string('Docs To Go™ Free Office Suite'))"
   ]
  },
  {
   "cell_type": "code",
   "execution_count": 12,
   "metadata": {
    "collapsed": false
   },
   "outputs": [
    {
     "name": "stdout",
     "output_type": "stream",
     "text": [
      "['id', 'track_name', 'size_bytes', 'currency', 'price', 'rating_count_tot', 'rating_count_ver', 'user_rating', 'user_rating_ver', 'ver', 'cont_rating', 'prime_genre', 'sup_devices.num', 'ipadSc_urls.num', 'lang.num', 'vpp_lic']\n",
      "\n",
      "\n",
      "['284882215', 'Facebook', '389879808', 'USD', '0.0', '2974676', '212', '3.5', '3.5', '95.0', '4+', 'Social Networking', '37', '1', '29', '1']\n",
      "\n",
      "\n",
      "['389801252', 'Instagram', '113954816', 'USD', '0.0', '2161558', '1289', '4.5', '4.0', '10.23', '12+', 'Photo & Video', '37', '0', '29', '1']\n",
      "\n",
      "\n",
      "Number of rows: 7198\n",
      "Number of columns: 16\n",
      "['Photo Editor & Candy Camera & Grid & ScrapBook', 'ART_AND_DESIGN', '4.1', '159', '19M', '10,000+', 'Free', '0', 'Everyone', 'Art & Design', 'January 7, 2018', '1.0.0', '4.0.3 and up']\n",
      "\n",
      "\n",
      "['U Launcher Lite – FREE Live Cool Themes, Hide Apps', 'ART_AND_DESIGN', '4.7', '87510', '8.7M', '5,000,000+', 'Free', '0', 'Everyone', 'Art & Design', 'August 1, 2018', '1.2.4', '4.0.3 and up']\n",
      "\n",
      "\n",
      "['Sketch - Draw & Paint', 'ART_AND_DESIGN', '4.5', '215644', '25M', '50,000,000+', 'Free', '0', 'Teen', 'Art & Design', 'June 8, 2018', 'Varies with device', '4.2 and up']\n",
      "\n",
      "\n",
      "Number of rows: 9614\n",
      "Number of columns: 13\n"
     ]
    }
   ],
   "source": [
    "english_google_apps = []\n",
    "english_apple_apps = []\n",
    "\n",
    "for app in android_clean:\n",
    "    if check_string(app[0]): \n",
    "        english_google_apps.append(app)\n",
    "\n",
    "for app in apple_data:\n",
    "    if check_string(app[0]): \n",
    "        english_apple_apps.append(app)\n",
    "\n",
    "explore_data(english_apple_apps, 0, 3, True)\n",
    "explore_data(english_google_apps, 0, 3, True)\n"
   ]
  },
  {
   "cell_type": "markdown",
   "metadata": {},
   "source": [
    "## Isolating free apps"
   ]
  },
  {
   "cell_type": "code",
   "execution_count": 13,
   "metadata": {
    "collapsed": false
   },
   "outputs": [
    {
     "name": "stdout",
     "output_type": "stream",
     "text": [
      "android: 8864\n",
      "iOS: 4057\n"
     ]
    }
   ],
   "source": [
    "free_android = [english_google_apps[0]]\n",
    "free_ios = [english_apple_apps[0]]\n",
    "\n",
    "for app in english_google_apps: \n",
    "    if app[6] == \"Free\": \n",
    "        free_android.append(app)\n",
    "\n",
    "for app in english_apple_apps[1:]: \n",
    "    if float(app[4]) == 0.0 :\n",
    "        free_ios.append(app)\n",
    "        \n",
    "print(\"android:\", len(free_android))\n",
    "print(\"iOS:\", len(free_ios))"
   ]
  },
  {
   "cell_type": "markdown",
   "metadata": {},
   "source": [
    "# Data Analysis \n",
    "## Identifying common genres\n",
    "Our end goal is to publish our app on Google Play and App Store, beginning with the former. Therefore, we need to identify app profiles that work well for both markets. \n",
    "\n",
    "Firstly, we'll find the common genres for each market. For this, we'll build a frequency table for the **prime_genre** column of the App Store data set, and the **Genres** and **Category** columns of the Google Play data set.\n",
    "\n"
   ]
  },
  {
   "cell_type": "code",
   "execution_count": 14,
   "metadata": {
    "collapsed": false
   },
   "outputs": [
    {
     "name": "stdout",
     "output_type": "stream",
     "text": [
      "___________CATEGORY ANDROID\n",
      "FAMILY : 19.21\n",
      "GAME : 9.51\n",
      "TOOLS : 8.46\n",
      "BUSINESS : 4.58\n",
      "LIFESTYLE : 3.9\n",
      "PRODUCTIVITY : 3.89\n",
      "FINANCE : 3.7\n",
      "MEDICAL : 3.54\n",
      "SPORTS : 3.42\n",
      "PERSONALIZATION : 3.32\n",
      "COMMUNICATION : 3.25\n",
      "HEALTH_AND_FITNESS : 3.07\n",
      "PHOTOGRAPHY : 2.94\n",
      "NEWS_AND_MAGAZINES : 2.8\n",
      "SOCIAL : 2.66\n",
      "TRAVEL_AND_LOCAL : 2.34\n",
      "SHOPPING : 2.25\n",
      "BOOKS_AND_REFERENCE : 2.14\n",
      "DATING : 1.86\n",
      "VIDEO_PLAYERS : 1.78\n",
      "MAPS_AND_NAVIGATION : 1.4\n",
      "FOOD_AND_DRINK : 1.24\n",
      "EDUCATION : 1.13\n",
      "LIBRARIES_AND_DEMO : 0.94\n",
      "AUTO_AND_VEHICLES : 0.93\n",
      "ENTERTAINMENT : 0.88\n",
      "HOUSE_AND_HOME : 0.82\n",
      "WEATHER : 0.8\n",
      "EVENTS : 0.71\n",
      "PARENTING : 0.65\n",
      "ART_AND_DESIGN : 0.64\n",
      "COMICS : 0.62\n",
      "BEAUTY : 0.6\n",
      "___________GENRE ANDROID\n",
      "Tools : 8.45\n",
      "Entertainment : 6.07\n",
      "Education : 5.35\n",
      "Business : 4.58\n",
      "Productivity : 3.89\n",
      "Lifestyle : 3.89\n",
      "Finance : 3.7\n",
      "Medical : 3.54\n",
      "Sports : 3.46\n",
      "Personalization : 3.32\n",
      "Communication : 3.25\n",
      "Action : 3.1\n",
      "Health & Fitness : 3.07\n",
      "Photography : 2.94\n",
      "News & Magazines : 2.8\n",
      "Social : 2.66\n",
      "Travel & Local : 2.32\n",
      "Shopping : 2.25\n",
      "Books & Reference : 2.14\n",
      "Simulation : 2.04\n",
      "Dating : 1.86\n",
      "Arcade : 1.86\n",
      "Video Players & Editors : 1.78\n",
      "Casual : 1.75\n",
      "Maps & Navigation : 1.4\n",
      "Food & Drink : 1.24\n",
      "Puzzle : 1.13\n",
      "Racing : 0.99\n",
      "Role Playing : 0.94\n",
      "Libraries & Demo : 0.94\n",
      "Auto & Vehicles : 0.93\n",
      "Strategy : 0.9\n",
      "House & Home : 0.82\n",
      "Weather : 0.8\n",
      "Events : 0.71\n",
      "Adventure : 0.68\n",
      "Comics : 0.61\n",
      "Beauty : 0.6\n",
      "Art & Design : 0.6\n",
      "Parenting : 0.5\n",
      "Card : 0.44\n",
      "Casino : 0.43\n",
      "Trivia : 0.42\n",
      "Educational;Education : 0.39\n",
      "Board : 0.38\n",
      "Educational : 0.37\n",
      "Education;Education : 0.34\n",
      "Word : 0.26\n",
      "Casual;Pretend Play : 0.24\n",
      "Music : 0.2\n",
      "Racing;Action & Adventure : 0.17\n",
      "Puzzle;Brain Games : 0.17\n",
      "Entertainment;Music & Video : 0.17\n",
      "Casual;Brain Games : 0.14\n",
      "Casual;Action & Adventure : 0.14\n",
      "Arcade;Action & Adventure : 0.12\n",
      "Action;Action & Adventure : 0.1\n",
      "Educational;Pretend Play : 0.09\n",
      "Simulation;Action & Adventure : 0.08\n",
      "Parenting;Education : 0.08\n",
      "Entertainment;Brain Games : 0.08\n",
      "Board;Brain Games : 0.08\n",
      "Parenting;Music & Video : 0.07\n",
      "Educational;Brain Games : 0.07\n",
      "Casual;Creativity : 0.07\n",
      "Art & Design;Creativity : 0.07\n",
      "Education;Pretend Play : 0.06\n",
      "Role Playing;Pretend Play : 0.05\n",
      "Education;Creativity : 0.05\n",
      "Role Playing;Action & Adventure : 0.03\n",
      "Puzzle;Action & Adventure : 0.03\n",
      "Entertainment;Creativity : 0.03\n",
      "Entertainment;Action & Adventure : 0.03\n",
      "Educational;Creativity : 0.03\n",
      "Educational;Action & Adventure : 0.03\n",
      "Education;Music & Video : 0.03\n",
      "Education;Brain Games : 0.03\n",
      "Education;Action & Adventure : 0.03\n",
      "Adventure;Action & Adventure : 0.03\n",
      "Video Players & Editors;Music & Video : 0.02\n",
      "Sports;Action & Adventure : 0.02\n",
      "Simulation;Pretend Play : 0.02\n",
      "Puzzle;Creativity : 0.02\n",
      "Music;Music & Video : 0.02\n",
      "Entertainment;Pretend Play : 0.02\n",
      "Casual;Education : 0.02\n",
      "Board;Action & Adventure : 0.02\n",
      "Trivia;Education : 0.01\n",
      "Travel & Local;Action & Adventure : 0.01\n",
      "Tools;Education : 0.01\n",
      "Strategy;Education : 0.01\n",
      "Strategy;Creativity : 0.01\n",
      "Strategy;Action & Adventure : 0.01\n",
      "Simulation;Education : 0.01\n",
      "Role Playing;Brain Games : 0.01\n",
      "Racing;Pretend Play : 0.01\n",
      "Puzzle;Education : 0.01\n",
      "Parenting;Brain Games : 0.01\n",
      "Music & Audio;Music & Video : 0.01\n",
      "Lifestyle;Pretend Play : 0.01\n",
      "Lifestyle;Education : 0.01\n",
      "Health & Fitness;Education : 0.01\n",
      "Health & Fitness;Action & Adventure : 0.01\n",
      "Entertainment;Education : 0.01\n",
      "Communication;Creativity : 0.01\n",
      "Comics;Creativity : 0.01\n",
      "Casual;Music & Video : 0.01\n",
      "Card;Brain Games : 0.01\n",
      "Card;Action & Adventure : 0.01\n",
      "Books & Reference;Education : 0.01\n",
      "Art & Design;Pretend Play : 0.01\n",
      "Art & Design;Action & Adventure : 0.01\n",
      "Arcade;Pretend Play : 0.01\n",
      "Adventure;Education : 0.01\n",
      "___________IOS\n",
      "Games : 55.65\n",
      "Entertainment : 8.23\n",
      "Photo & Video : 4.12\n",
      "Social Networking : 3.53\n",
      "Education : 3.25\n",
      "Shopping : 2.98\n",
      "Utilities : 2.69\n",
      "Lifestyle : 2.32\n",
      "Finance : 2.07\n",
      "Sports : 1.95\n",
      "Health & Fitness : 1.87\n",
      "Music : 1.65\n",
      "Book : 1.63\n",
      "Productivity : 1.53\n",
      "News : 1.43\n",
      "Travel : 1.38\n",
      "Food & Drink : 1.06\n",
      "Weather : 0.76\n",
      "Reference : 0.49\n",
      "Navigation : 0.49\n",
      "Business : 0.49\n",
      "Catalogs : 0.22\n",
      "Medical : 0.2\n"
     ]
    }
   ],
   "source": [
    "def freq_table(dataset, index): \n",
    "    freq_table = {}\n",
    "    freq_table_perc = {}\n",
    "    all_apps = 0\n",
    "    for row in dataset[1:]: \n",
    "        col_value = row[index]\n",
    "        all_apps+= 1\n",
    "        if col_value in freq_table: \n",
    "            freq_table[col_value]+=1\n",
    "        else: \n",
    "            freq_table[col_value] = 1\n",
    "    for val in freq_table: \n",
    "        freq_table_perc[val] = round(float(freq_table[val]/all_apps*100),2)\n",
    "    return freq_table_perc\n",
    "\n",
    "def display_table(dataset, index):\n",
    "    table = freq_table(dataset, index)\n",
    "    table_display = []\n",
    "    for key in table:\n",
    "        key_val_as_tuple = (table[key], key)\n",
    "        table_display.append(key_val_as_tuple)\n",
    "\n",
    "    table_sorted = sorted(table_display, reverse = True)\n",
    "    for entry in table_sorted:\n",
    "        print(entry[1], ':', entry[0])\n",
    "        \n",
    "print(\"___________CATEGORY ANDROID\")        \n",
    "display_table(free_android,1)\n",
    "print(\"___________GENRE ANDROID\")        \n",
    "display_table(free_android,9)\n",
    "print(\"___________IOS\")\n",
    "display_table(free_ios,11)\n"
   ]
  },
  {
   "cell_type": "markdown",
   "metadata": {
    "collapsed": true
   },
   "source": [
    "### Analysis of frequency tables \n",
    "**Conclusions for free English apps on Apple Store**: \n",
    "- **Games** is the most common genre, followed by **Entertainment** \n",
    "- Games is by far the most common genre, with **55.65%** of apps falling within that category\n",
    "- Most of the apps are designed for entertainment, while utility apps are rare \n",
    "\n",
    "\n",
    "**Conclusions for free English apps on Google Play Store**: \n",
    "- **Family** is the most common category, followed by **Game**\n",
    "- **Tools** is the most common genre, followed by **Entertainment** \n",
    "- As opposed to the app store,  Google Play shows a more balanced landscape of both practical and for-fun apps\n",
    "- The genre column is more granular than the category column, we will therfore focus on former\n",
    "\n",
    "\n",
    "Based on these frequency tables we cannot make a recommendation yet, as they only provide information about supply, not about demand. Therefore, in the next part, we will anaylise user numbers. "
   ]
  },
  {
   "cell_type": "markdown",
   "metadata": {},
   "source": [
    "## Identifying popular apps by genres\n",
    "\n",
    "### Most popular apps by genre on App Store\n",
    "As the App Store is not providing information about the total number of installs per app, we'll take the total number of user ratings as a proxy. \n",
    "\n",
    "Below, we calculate the average number of user ratings per app genre on the App Store:\n"
   ]
  },
  {
   "cell_type": "code",
   "execution_count": 25,
   "metadata": {
    "collapsed": false
   },
   "outputs": [
    {
     "name": "stdout",
     "output_type": "stream",
     "text": [
      "Business 6367.8\n",
      "Medical 459.75\n",
      "Social Networking 53078.195804195806\n",
      "Catalogs 1779.5555555555557\n",
      "Weather 47220.93548387097\n",
      "Utilities 14010.100917431193\n",
      "Music 56482.02985074627\n",
      "Travel 20216.01785714286\n",
      "Health & Fitness 19952.315789473683\n",
      "Education 6266.333333333333\n",
      "Productivity 19053.887096774193\n",
      "News 15892.724137931034\n",
      "Food & Drink 20179.093023255813\n",
      "Photo & Video 27249.892215568863\n",
      "Navigation 25972.05\n",
      "Games 18924.68896765618\n",
      "Shopping 18746.677685950413\n",
      "Sports 20128.974683544304\n",
      "Reference 67447.9\n",
      "Book 8498.333333333334\n",
      "Lifestyle 8978.308510638299\n",
      "Finance 13522.261904761905\n",
      "Entertainment 10822.961077844311\n"
     ]
    }
   ],
   "source": [
    "def freq_table_genre(dataset, index): \n",
    "    prime_genre_freq = {}\n",
    "    for row in dataset[1:]: \n",
    "        col_value = row[index]\n",
    "        if col_value in prime_genre_freq: \n",
    "            prime_genre_freq[col_value]+=1\n",
    "        else: \n",
    "            prime_genre_freq[col_value] = 1\n",
    "    return prime_genre_freq\n",
    "\n",
    "ios_genres = freq_table_genre(free_ios,11)\n",
    "for genre in ios_genres: \n",
    "    total = 0 \n",
    "    len_genre = 0 \n",
    "    for app in free_ios: \n",
    "        genre_app = app[11]\n",
    "        if genre == genre_app: \n",
    "            user_ratings = float(app[5])\n",
    "            total += user_ratings\n",
    "            len_genre += 1\n",
    "     \n",
    "    avg_number_of_user_ratings = total/len_genre\n",
    "    print(genre, avg_number_of_user_ratings)\n"
   ]
  },
  {
   "cell_type": "markdown",
   "metadata": {
    "collapsed": true
   },
   "source": [
    "Based on these results, **Music** and **Social Networking** apps seem to be the most popular. However, we can assume that the numbers for these genres are skewed by a few big players, such as **Spotify** and **Facebook**, which get a lot of reviews while smaller players get hardly any. Another popular category is **Weather** but weather apps don't lend themselves to our finance model. Therfore, we would recommend to focus on developing an app for **Reference** or **Photo & Video**. As the market for fun-driven apps on the App Store seems to be saturated, we would recommend a utility-focused app in the **Reference** genre"
   ]
  },
  {
   "cell_type": "markdown",
   "metadata": {},
   "source": [
    "### Most popular apps by genre on Google Play\n",
    "The Google Play database provides the total number of installs for each app. Before we anaylse the values in this column with a frequency app, we need to convert those values into floats. \n",
    "\n"
   ]
  },
  {
   "cell_type": "code",
   "execution_count": 26,
   "metadata": {
    "collapsed": false
   },
   "outputs": [
    {
     "name": "stdout",
     "output_type": "stream",
     "text": [
      "TOOLS 10801391.298666667\n",
      "MAPS_AND_NAVIGATION 4056941.7741935486\n",
      "PARENTING 542603.6206896552\n",
      "GAME 12914435.883748516\n",
      "HEALTH_AND_FITNESS 4167457.3602941176\n",
      "EVENTS 253542.22222222222\n",
      "PRODUCTIVITY 16772838.591304347\n",
      "SPORTS 4274688.722772277\n",
      "VIDEO_PLAYERS 24790074.17721519\n",
      "NEWS_AND_MAGAZINES 9549178.467741935\n",
      "WEATHER 5074486.197183099\n",
      "BEAUTY 513151.88679245283\n",
      "PHOTOGRAPHY 17840110.40229885\n",
      "FINANCE 1387692.475609756\n",
      "COMMUNICATION 38326063.197916664\n",
      "AUTO_AND_VEHICLES 647317.8170731707\n",
      "BOOKS_AND_REFERENCE 8767811.894736841\n",
      "SOCIAL 23253652.127118643\n",
      "BUSINESS 1704192.3399014778\n",
      "TRAVEL_AND_LOCAL 13984077.710144928\n",
      "DATING 854028.8303030303\n",
      "ENTERTAINMENT 9146923.076923076\n",
      "LIFESTYLE 1437816.2687861272\n",
      "COMICS 817657.2727272727\n",
      "ART_AND_DESIGN 1952260.3448275863\n",
      "HOUSE_AND_HOME 1331540.5616438356\n",
      "SHOPPING 7036877.311557789\n",
      "LIBRARIES_AND_DEMO 638503.734939759\n",
      "MEDICAL 123064.7898089172\n",
      "FOOD_AND_DRINK 1924897.7363636363\n",
      "FAMILY 5183203.576042279\n",
      "PERSONALIZATION 5201482.6122448975\n",
      "EDUCATION 1768500.0\n",
      "[(38326063.197916664, 'COMMUNICATION'), (24790074.17721519, 'VIDEO_PLAYERS'), (23253652.127118643, 'SOCIAL'), (17840110.40229885, 'PHOTOGRAPHY'), (16772838.591304347, 'PRODUCTIVITY'), (13984077.710144928, 'TRAVEL_AND_LOCAL'), (12914435.883748516, 'GAME'), (10801391.298666667, 'TOOLS'), (9549178.467741935, 'NEWS_AND_MAGAZINES'), (9146923.076923076, 'ENTERTAINMENT'), (8767811.894736841, 'BOOKS_AND_REFERENCE'), (7036877.311557789, 'SHOPPING'), (5201482.6122448975, 'PERSONALIZATION'), (5183203.576042279, 'FAMILY'), (5074486.197183099, 'WEATHER'), (4274688.722772277, 'SPORTS'), (4167457.3602941176, 'HEALTH_AND_FITNESS'), (4056941.7741935486, 'MAPS_AND_NAVIGATION'), (1952260.3448275863, 'ART_AND_DESIGN'), (1924897.7363636363, 'FOOD_AND_DRINK'), (1768500.0, 'EDUCATION'), (1704192.3399014778, 'BUSINESS'), (1437816.2687861272, 'LIFESTYLE'), (1387692.475609756, 'FINANCE'), (1331540.5616438356, 'HOUSE_AND_HOME'), (854028.8303030303, 'DATING'), (817657.2727272727, 'COMICS'), (647317.8170731707, 'AUTO_AND_VEHICLES'), (638503.734939759, 'LIBRARIES_AND_DEMO'), (542603.6206896552, 'PARENTING'), (513151.88679245283, 'BEAUTY'), (253542.22222222222, 'EVENTS'), (123064.7898089172, 'MEDICAL')]\n"
     ]
    }
   ],
   "source": [
    "android_genres = freq_table_genre(free_android,1)\n",
    "android_genres_and_installs = []\n",
    "for category in android_genres: \n",
    "    total = 0\n",
    "    len_category = 0\n",
    "    for app in free_android: \n",
    "        category_app = app[1]\n",
    "        if category == category_app: \n",
    "            installs = app[5]\n",
    "            installs_new = installs.replace(\"+\",'').replace(\",\",\"\")\n",
    "            installs_float = float(installs_new)\n",
    "            total += installs_float\n",
    "            len_category+=1\n",
    "    avg_installs_in_category = total/len_category\n",
    "    print(category, avg_installs_in_category)\n",
    "    android_genres_and_installs.append((avg_installs_in_category, category))\n",
    "\n",
    "print(sorted(android_genres_and_installs, reverse=True))"
   ]
  },
  {
   "cell_type": "markdown",
   "metadata": {},
   "source": [
    "On average, **Communication** apps have the most installs. However, we can assume that this number is heavily skewed by a few big players, such as Facebook, Google etc. A similar pattern can be assumed for the follow-up categories **Video Players**.  **Social**, **Photography** and **Productivity**.\n",
    "\n",
    "The **Game** category is popular but as we've seen previously, the market seems over saturated for this genre. \n",
    " \n",
    "Interestingly, **Books and Reference** r"
   ]
  }
 ],
 "metadata": {
  "kernelspec": {
   "display_name": "Python 3",
   "language": "python",
   "name": "python3"
  },
  "language_info": {
   "codemirror_mode": {
    "name": "ipython",
    "version": 3
   },
   "file_extension": ".py",
   "mimetype": "text/x-python",
   "name": "python",
   "nbconvert_exporter": "python",
   "pygments_lexer": "ipython3",
   "version": "3.4.3"
  }
 },
 "nbformat": 4,
 "nbformat_minor": 2
}
